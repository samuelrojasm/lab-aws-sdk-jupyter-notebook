{
 "cells": [
  {
   "cell_type": "code",
   "execution_count": 9,
   "id": "da203825-2c9a-4c7d-af48-748d43d08bd0",
   "metadata": {},
   "outputs": [],
   "source": [
    "import boto3          # AWS SDK for Python\n",
    "import pandas as pd   # Data analysis and manipulation tool\n",
    "import jmespath       # Query language for JSON"
   ]
  },
  {
   "cell_type": "code",
   "execution_count": 10,
   "id": "2ea191e2-e6b6-4f79-b809-7a445ebe06ba",
   "metadata": {},
   "outputs": [],
   "source": [
    "# Definición de variables\n",
    "region = \"us-east-1\""
   ]
  },
  {
   "cell_type": "code",
   "execution_count": 11,
   "id": "67a4c8bf-b210-45df-ab06-2b044d37bcf6",
   "metadata": {
    "editable": true,
    "slideshow": {
     "slide_type": ""
    },
    "tags": []
   },
   "outputs": [],
   "source": [
    "# Crear la sesión en AWS con el perfil especificado\n",
    "# ---\n",
    "# Es necesario establecer la sesión en AWS CLI usando:\n",
    "# aws sso login --profile aws-sdk\n",
    "# ---\n",
    "session_services = boto3.Session(profile_name='aws-sdk')"
   ]
  },
  {
   "cell_type": "code",
   "execution_count": 12,
   "id": "cf87d067-4cfa-4f12-9003-ed5a2339dbc9",
   "metadata": {},
   "outputs": [],
   "source": [
    "# Crear un cliente de EC2 con la sesión\n",
    "ec2_client = session_services.client('ec2',region_name=region)\n",
    "\n",
    "# Obtiene la información de EC2 en listas de diccionarios\n",
    "response = ec2_client.describe_instances()"
   ]
  },
  {
   "cell_type": "code",
   "execution_count": 36,
   "id": "d44ad956-a90e-47a1-ad2c-203405b25708",
   "metadata": {},
   "outputs": [],
   "source": [
    "# Definición de la consulta con los datos requeridos de las EC2.\n",
    "# Se coloca cero como valor del index [0] en el caso de listas,\n",
    "# para que el tipo de valor resultante no sea una lista.\n",
    "# ---\n",
    "# JMESPath is a query language for JSON. \n",
    "# You can extract and transform elements from a JSON document.\n",
    "# --\n",
    "\n",
    "consulta = jmespath.compile(\n",
    "    \"\"\"\n",
    "    Reservations[].{\n",
    "        OwnerId: OwnerId,\n",
    "        OwnerIdNetInt: Instances[0].NetworkInterfaces[0].OwnerId,\n",
    "        ReservationId: ReservationId,\n",
    "        InstanceId: Instances[0].InstanceId,\n",
    "        InstanceType: Instances[0].InstanceType,\n",
    "        PlatformDetails: Instances[0].PlatformDetails,\n",
    "        PrivateIpAddress:Instances[0].PrivateIpAddress,\n",
    "        PrivateDnsName: Instances[0].PrivateDnsName,\n",
    "        PublicIpAddress:Instances[0].PublicIpAddress,\n",
    "        PublicDnsName: Instances[0].PublicDnsName,\n",
    "        AvailabilityZone: Instances[0].Placement.AvailabilityZone,\n",
    "        BlockDeviceMappings: Instances[0].BlockDeviceMappings[],\n",
    "        NetworkInterfaces: Instances[0].NetworkInterfaces[],\n",
    "        State: Instances[0].State.Name\n",
    "        Architecture: Instances[0].Architecture\n",
    "        ImageId: Instances[0].ImageId\n",
    "    }\n",
    "    \"\"\"\n",
    ")"
   ]
  },
  {
   "cell_type": "code",
   "execution_count": 37,
   "id": "718f30f3-ba98-420e-b68b-8d652c10a1cf",
   "metadata": {},
   "outputs": [],
   "source": [
    "# Formatear los datos obtenidos de la consulta de EC2 con AWS SDK\n",
    "data_ec2 = consulta.search(response)\n",
    "\n",
    "# Convierte los datos JSON a un Data Frame\n",
    "df = pd.DataFrame(data_ec2)"
   ]
  },
  {
   "cell_type": "code",
   "execution_count": 38,
   "id": "ebbf04e4-6d71-44a4-a81b-184aa3e4bbfd",
   "metadata": {},
   "outputs": [
    {
     "data": {
      "text/html": [
       "<div>\n",
       "<style scoped>\n",
       "    .dataframe tbody tr th:only-of-type {\n",
       "        vertical-align: middle;\n",
       "    }\n",
       "\n",
       "    .dataframe tbody tr th {\n",
       "        vertical-align: top;\n",
       "    }\n",
       "\n",
       "    .dataframe thead th {\n",
       "        text-align: right;\n",
       "    }\n",
       "</style>\n",
       "<table border=\"1\" class=\"dataframe\">\n",
       "  <thead>\n",
       "    <tr style=\"text-align: right;\">\n",
       "      <th></th>\n",
       "      <th>InstanceId</th>\n",
       "      <th>InstanceType</th>\n",
       "      <th>PlatformDetails</th>\n",
       "      <th>AvailabilityZone</th>\n",
       "      <th>Architecture</th>\n",
       "      <th>Tags</th>\n",
       "      <th>State</th>\n",
       "    </tr>\n",
       "  </thead>\n",
       "  <tbody>\n",
       "    <tr>\n",
       "      <th>0</th>\n",
       "      <td>i-092c9330eab1b314b</td>\n",
       "      <td>t2.micro</td>\n",
       "      <td>Linux/UNIX</td>\n",
       "      <td>us-east-1d</td>\n",
       "      <td>x86_64</td>\n",
       "      <td>{'Key': 'Name', 'Value': 'ec2-demo-us-east-1-2'}</td>\n",
       "      <td>running</td>\n",
       "    </tr>\n",
       "    <tr>\n",
       "      <th>1</th>\n",
       "      <td>i-05c276d94a3496064</td>\n",
       "      <td>t2.micro</td>\n",
       "      <td>Linux/UNIX</td>\n",
       "      <td>us-east-1d</td>\n",
       "      <td>x86_64</td>\n",
       "      <td>{'Key': 'Name', 'Value': 'ec2-demo-us-east-1-1'}</td>\n",
       "      <td>running</td>\n",
       "    </tr>\n",
       "    <tr>\n",
       "      <th>2</th>\n",
       "      <td>i-0699e681ab639120c</td>\n",
       "      <td>t2.micro</td>\n",
       "      <td>Linux/UNIX</td>\n",
       "      <td>us-east-1d</td>\n",
       "      <td>x86_64</td>\n",
       "      <td>{'Key': 'Name', 'Value': 'ec2-demo-us-east-1-5'}</td>\n",
       "      <td>running</td>\n",
       "    </tr>\n",
       "    <tr>\n",
       "      <th>3</th>\n",
       "      <td>i-08c27982c59354c18</td>\n",
       "      <td>t2.micro</td>\n",
       "      <td>Linux/UNIX</td>\n",
       "      <td>us-east-1d</td>\n",
       "      <td>x86_64</td>\n",
       "      <td>{'Key': 'Name', 'Value': 'ec2-demo-us-east-1-4'}</td>\n",
       "      <td>running</td>\n",
       "    </tr>\n",
       "    <tr>\n",
       "      <th>4</th>\n",
       "      <td>i-085cde2c493c935fd</td>\n",
       "      <td>t2.micro</td>\n",
       "      <td>Linux/UNIX</td>\n",
       "      <td>us-east-1d</td>\n",
       "      <td>x86_64</td>\n",
       "      <td>{'Key': 'Env', 'Value': 'demo'}</td>\n",
       "      <td>running</td>\n",
       "    </tr>\n",
       "  </tbody>\n",
       "</table>\n",
       "</div>"
      ],
      "text/plain": [
       "            InstanceId InstanceType PlatformDetails AvailabilityZone  \\\n",
       "0  i-092c9330eab1b314b     t2.micro      Linux/UNIX       us-east-1d   \n",
       "1  i-05c276d94a3496064     t2.micro      Linux/UNIX       us-east-1d   \n",
       "2  i-0699e681ab639120c     t2.micro      Linux/UNIX       us-east-1d   \n",
       "3  i-08c27982c59354c18     t2.micro      Linux/UNIX       us-east-1d   \n",
       "4  i-085cde2c493c935fd     t2.micro      Linux/UNIX       us-east-1d   \n",
       "\n",
       "  Architecture                                              Tags    State  \n",
       "0       x86_64  {'Key': 'Name', 'Value': 'ec2-demo-us-east-1-2'}  running  \n",
       "1       x86_64  {'Key': 'Name', 'Value': 'ec2-demo-us-east-1-1'}  running  \n",
       "2       x86_64  {'Key': 'Name', 'Value': 'ec2-demo-us-east-1-5'}  running  \n",
       "3       x86_64  {'Key': 'Name', 'Value': 'ec2-demo-us-east-1-4'}  running  \n",
       "4       x86_64                   {'Key': 'Env', 'Value': 'demo'}  running  "
      ]
     },
     "metadata": {},
     "output_type": "display_data"
    }
   ],
   "source": [
    "# Despliega los datos consultados de las EC2\n",
    "\n",
    "# Seleccionar columnas que se van a mostrar\n",
    "df_seleccionado = df[['InstanceId','InstanceType','PlatformDetails','AvailabilityZone','Architecture','ImageId','State']]\n",
    "\n",
    "# Mostrar los datos del Data Frame\n",
    "display(df_seleccionado)"
   ]
  },
  {
   "cell_type": "code",
   "execution_count": null,
   "id": "367b7341-2829-41a3-a7b2-bdfb0038c271",
   "metadata": {},
   "outputs": [],
   "source": []
  }
 ],
 "metadata": {
  "kernelspec": {
   "display_name": "Python [conda env:aws-sdk]",
   "language": "python",
   "name": "conda-env-aws-sdk-py"
  },
  "language_info": {
   "codemirror_mode": {
    "name": "ipython",
    "version": 3
   },
   "file_extension": ".py",
   "mimetype": "text/x-python",
   "name": "python",
   "nbconvert_exporter": "python",
   "pygments_lexer": "ipython3",
   "version": "3.13.2"
  }
 },
 "nbformat": 4,
 "nbformat_minor": 5
}
