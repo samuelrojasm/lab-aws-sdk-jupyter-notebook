{
 "cells": [
  {
   "cell_type": "code",
   "execution_count": 8,
   "id": "da203825-2c9a-4c7d-af48-748d43d08bd0",
   "metadata": {},
   "outputs": [],
   "source": [
    "import boto3          # AWS SDK for Python\n",
    "import pandas as pd   # Data analysis and manipulation tool\n",
    "import jmespath       # Query language for JSON"
   ]
  },
  {
   "cell_type": "code",
   "execution_count": 6,
   "id": "2ea191e2-e6b6-4f79-b809-7a445ebe06ba",
   "metadata": {},
   "outputs": [],
   "source": [
    "# Definición de variables\n",
    "region = \"us-west-2\""
   ]
  },
  {
   "cell_type": "code",
   "execution_count": null,
   "id": "67a4c8bf-b210-45df-ab06-2b044d37bcf6",
   "metadata": {
    "editable": true,
    "slideshow": {
     "slide_type": ""
    },
    "tags": []
   },
   "outputs": [],
   "source": [
    "# Crear la sesión en AWS con el perfil especificado\n",
    "# ---\n",
    "# Es necesario establecer la sesión en AWS CLI usando:\n",
    "# aws sso login --profile aws-sdk\n",
    "# ---\n",
    "session_services = boto3.Session(profile_name='aws-sdk')"
   ]
  },
  {
   "cell_type": "code",
   "execution_count": null,
   "id": "cf87d067-4cfa-4f12-9003-ed5a2339dbc9",
   "metadata": {},
   "outputs": [],
   "source": [
    "# Crear un cliente de EC2 con la sesión\n",
    "ec2_client = session_services.client('ec2',region_name=region)\n",
    "\n",
    "# Obtiene la información de EC2 en listas de diccionarios\n",
    "response = ec2_client.describe_instances()"
   ]
  },
  {
   "cell_type": "code",
   "execution_count": null,
   "id": "d44ad956-a90e-47a1-ad2c-203405b25708",
   "metadata": {},
   "outputs": [],
   "source": [
    "# Definición de la consulta con los datos requeridos de las EC2.\n",
    "# Se coloca cero como valor del index [0] en el caso de listas,\n",
    "# para que el tipo de valor resultante no sea una lista.\n",
    "# ---\n",
    "# JMESPath is a query language for JSON. \n",
    "# You can extract and transform elements from a JSON document.\n",
    "# --\n",
    "\n",
    "consulta = jmespath.compile(\n",
    "    \"\"\"\n",
    "    Reservations[].{\n",
    "        OwnerId: OwnerId,\n",
    "        OwnerIdNetInt: Instances[0].NetworkInterfaces[0].OwnerId,\n",
    "        ReservationId: ReservationId,\n",
    "        InstanceId: Instances[0].InstanceId,\n",
    "        InstanceType: Instances[0].InstanceType,\n",
    "        PlatformDetails: Instances[0].PlatformDetails,\n",
    "        PrivateIpAddress:Instances[0].PrivateIpAddress,\n",
    "        PrivateDnsName: Instances[0].PrivateDnsName,\n",
    "        PublicIpAddress:Instances[0].PublicIpAddress,\n",
    "        PublicDnsName: Instances[0].PublicDnsName,\n",
    "        AvailabilityZone: Instances[0].Placement.AvailabilityZone,\n",
    "        BlockDeviceMappings: Instances[0].BlockDeviceMappings[],\n",
    "        NetworkInterfaces: Instances[0].NetworkInterfaces[],\n",
    "        State: Instances[0].State.Name\n",
    "    }\n",
    "    \"\"\"\n",
    ")"
   ]
  },
  {
   "cell_type": "code",
   "execution_count": null,
   "id": "718f30f3-ba98-420e-b68b-8d652c10a1cf",
   "metadata": {},
   "outputs": [],
   "source": [
    "# Formatear los datos obtenidos de la consulta de EC2 con AWS SDK\n",
    "data_ec2 = consulta.search(response)\n",
    "\n",
    "# Convierte los datos JSON a un Data Frame\n",
    "df = pd.DataFrame(data_ec2)"
   ]
  },
  {
   "cell_type": "code",
   "execution_count": null,
   "id": "ebbf04e4-6d71-44a4-a81b-184aa3e4bbfd",
   "metadata": {},
   "outputs": [],
   "source": [
    "# Despliega los datos consultados de las EC2\n",
    "display(df)"
   ]
  }
 ],
 "metadata": {
  "kernelspec": {
   "display_name": "Python [conda env:aws-sdk]",
   "language": "python",
   "name": "conda-env-aws-sdk-py"
  },
  "language_info": {
   "codemirror_mode": {
    "name": "ipython",
    "version": 3
   },
   "file_extension": ".py",
   "mimetype": "text/x-python",
   "name": "python",
   "nbconvert_exporter": "python",
   "pygments_lexer": "ipython3",
   "version": "3.13.2"
  }
 },
 "nbformat": 4,
 "nbformat_minor": 5
}
